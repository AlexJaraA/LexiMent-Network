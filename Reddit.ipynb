{
 "cells": [
  {
   "cell_type": "markdown",
   "id": "84eff78f",
   "metadata": {},
   "source": [
    "### 3. Parámetros iniciales para obtener los datos de reddit"
   ]
  },
  {
   "cell_type": "code",
   "execution_count": null,
   "id": "fa0e0d0e",
   "metadata": {},
   "outputs": [],
   "source": [
    "reddit = praw.Reddit(client_id='xBiZuv44tJjHYTJSzW_0NQ',\n",
    "                     client_secret='weyLalGpBtEYkPx1su7Gb2Y2fjBNYQ',\n",
    "                     user_agent='Proyecto_Anillo/1.0')"
   ]
  },
  {
   "cell_type": "markdown",
   "id": "d59a3efb",
   "metadata": {},
   "source": [
    "### 4. Obtención de los post dentro de un subreddit:"
   ]
  },
  {
   "cell_type": "code",
   "execution_count": null,
   "id": "a6a7522d",
   "metadata": {},
   "outputs": [],
   "source": [
    "# *\n",
    "# subreddit: Subreddit en el cual se quieren buscar los post\n",
    "# cantidad_posts: Cantidad de posts a buscar\n",
    "# theme: Palabras claves a buscar \n",
    "# *\n",
    "def get_posts_test(subreddit, cantidad_posts, theme):\n",
    "    subreddit = reddit.subreddit(subreddit)\n",
    "    posts = subreddit.search(theme, limit=cantidad_posts)\n",
    "    #return [post.selftext for post in posts] #Retorna solo el contenido del post\n",
    "    return [post.selftext if post.selftext else post.title for post in posts] #Si el post tiene contenido, lo retorna, si no, retorna el titulo"
   ]
  },
  {
   "cell_type": "markdown",
   "id": "3e29fa13",
   "metadata": {},
   "source": [
    "### 5. Llamada a la API para obtener los post y puntajes de las emociones"
   ]
  },
  {
   "cell_type": "code",
   "execution_count": null,
   "id": "03574c26",
   "metadata": {},
   "outputs": [],
   "source": [
    "subreddit = 'RepublicadeChile'  # Subreddit de interés\n",
    "cantidad_posts = 10  # Número de posts a obtener\n",
    "        \n",
    "# Emotions\n",
    "keys = ['anger', 'anticipation', 'disgust', 'fear', 'joy', 'sadness', 'surprise', 'trust']\n",
    "\n",
    "# keywords = [\"Women\", \"Men\"]\n",
    "keywords = [\"violencia mujer\"]\n",
    "\n",
    "for word in keywords:\n",
    "    posts = get_posts_test(subreddit, cantidad_posts, word)\n",
    "\n",
    "    #print(posts)\n",
    "    print(\"Cantidad de Posts Encontrados: \", len(posts))\n",
    "\n",
    "    for post in posts:\n",
    "        print(post)\n",
    "        print(\"-------------\")\n",
    "\n",
    "    tmpscore = [get_emotions(post, keys) for post in posts]\n",
    "\n",
    "    # Average scores \n",
    "    scores = {key: np.mean([ts[key] for ts in tmpscore]) for key in keys}\n",
    "    \n",
    "    print(\"Keyword : \", word)\n",
    "    print(scores)\n",
    "    print(\"---------------------------------------------------\")\n",
    "\n",
    "    plutchik(scores)"
   ]
  }
 ],
 "metadata": {
  "kernelspec": {
   "display_name": "Python 3 (ipykernel)",
   "language": "python",
   "name": "python3"
  },
  "language_info": {
   "codemirror_mode": {
    "name": "ipython",
    "version": 3
   },
   "file_extension": ".py",
   "mimetype": "text/x-python",
   "name": "python",
   "nbconvert_exporter": "python",
   "pygments_lexer": "ipython3",
   "version": "3.10.9"
  }
 },
 "nbformat": 4,
 "nbformat_minor": 5
}
